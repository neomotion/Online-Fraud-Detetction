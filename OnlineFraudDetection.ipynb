{
 "cells": [
  {
   "cell_type": "code",
   "execution_count": 4,
   "id": "e28cc724-f9df-4dd2-b193-61483c8c9220",
   "metadata": {},
   "outputs": [],
   "source": [
    "import numpy as np\n",
    "import pandas as pd\n",
    "import seaborn as sns\n",
    "import matplotlib.pyplot as plt\n",
    "from sklearn.preprocessing import StandardScaler\n",
    "from sklearn.model_selection import train_test_split\n",
    "from sklearn.linear_model import LogisticRegression\n",
    "from sklearn.tree import DecisionTreeClassifier\n",
    "from sklearn.naive_bayes import GaussianNB\n",
    "from sklearn.metrics import confusion_matrix, ConfusionMatrixDisplay, classification_report, accuracy_score, precision_score, recall_score,f1_score, roc_auc_score\n",
    "import warnings\n",
    "warnings.filterwarnings('ignore')"
   ]
  },
  {
   "cell_type": "markdown",
   "id": "36bd6162-1e97-4484-844c-d9469e9304eb",
   "metadata": {},
   "source": [
    "**EXPLORING THE DATASET**"
   ]
  },
  {
   "cell_type": "code",
   "execution_count": 5,
   "id": "c49bab9d-a8dc-4df3-ad55-782bac63ac6b",
   "metadata": {},
   "outputs": [],
   "source": [
    "data = pd.read_csv('archive/PS_20174392719_1491204439457_log.csv')\n",
    "                   "
   ]
  },
  {
   "cell_type": "code",
   "execution_count": 6,
   "id": "17bec8c6-83b4-4c17-b29a-5fbac7260c13",
   "metadata": {},
   "outputs": [
    {
     "data": {
      "text/plain": [
       "(6362620, 11)"
      ]
     },
     "execution_count": 6,
     "metadata": {},
     "output_type": "execute_result"
    }
   ],
   "source": [
    "data.shape"
   ]
  },
  {
   "cell_type": "code",
   "execution_count": 7,
   "id": "b0263acf-0697-402b-bfa3-2226d68b5f17",
   "metadata": {},
   "outputs": [
    {
     "data": {
      "text/html": [
       "<div>\n",
       "<style scoped>\n",
       "    .dataframe tbody tr th:only-of-type {\n",
       "        vertical-align: middle;\n",
       "    }\n",
       "\n",
       "    .dataframe tbody tr th {\n",
       "        vertical-align: top;\n",
       "    }\n",
       "\n",
       "    .dataframe thead th {\n",
       "        text-align: right;\n",
       "    }\n",
       "</style>\n",
       "<table border=\"1\" class=\"dataframe\">\n",
       "  <thead>\n",
       "    <tr style=\"text-align: right;\">\n",
       "      <th></th>\n",
       "      <th>step</th>\n",
       "      <th>type</th>\n",
       "      <th>amount</th>\n",
       "      <th>nameOrig</th>\n",
       "      <th>oldbalanceOrg</th>\n",
       "      <th>newbalanceOrig</th>\n",
       "      <th>nameDest</th>\n",
       "      <th>oldbalanceDest</th>\n",
       "      <th>newbalanceDest</th>\n",
       "      <th>isFraud</th>\n",
       "      <th>isFlaggedFraud</th>\n",
       "    </tr>\n",
       "  </thead>\n",
       "  <tbody>\n",
       "    <tr>\n",
       "      <th>0</th>\n",
       "      <td>1</td>\n",
       "      <td>PAYMENT</td>\n",
       "      <td>9839.64</td>\n",
       "      <td>C1231006815</td>\n",
       "      <td>170136.00</td>\n",
       "      <td>160296.36</td>\n",
       "      <td>M1979787155</td>\n",
       "      <td>0.0</td>\n",
       "      <td>0.00</td>\n",
       "      <td>0</td>\n",
       "      <td>0</td>\n",
       "    </tr>\n",
       "    <tr>\n",
       "      <th>1</th>\n",
       "      <td>1</td>\n",
       "      <td>PAYMENT</td>\n",
       "      <td>1864.28</td>\n",
       "      <td>C1666544295</td>\n",
       "      <td>21249.00</td>\n",
       "      <td>19384.72</td>\n",
       "      <td>M2044282225</td>\n",
       "      <td>0.0</td>\n",
       "      <td>0.00</td>\n",
       "      <td>0</td>\n",
       "      <td>0</td>\n",
       "    </tr>\n",
       "    <tr>\n",
       "      <th>2</th>\n",
       "      <td>1</td>\n",
       "      <td>TRANSFER</td>\n",
       "      <td>181.00</td>\n",
       "      <td>C1305486145</td>\n",
       "      <td>181.00</td>\n",
       "      <td>0.00</td>\n",
       "      <td>C553264065</td>\n",
       "      <td>0.0</td>\n",
       "      <td>0.00</td>\n",
       "      <td>1</td>\n",
       "      <td>0</td>\n",
       "    </tr>\n",
       "    <tr>\n",
       "      <th>3</th>\n",
       "      <td>1</td>\n",
       "      <td>CASH_OUT</td>\n",
       "      <td>181.00</td>\n",
       "      <td>C840083671</td>\n",
       "      <td>181.00</td>\n",
       "      <td>0.00</td>\n",
       "      <td>C38997010</td>\n",
       "      <td>21182.0</td>\n",
       "      <td>0.00</td>\n",
       "      <td>1</td>\n",
       "      <td>0</td>\n",
       "    </tr>\n",
       "    <tr>\n",
       "      <th>4</th>\n",
       "      <td>1</td>\n",
       "      <td>PAYMENT</td>\n",
       "      <td>11668.14</td>\n",
       "      <td>C2048537720</td>\n",
       "      <td>41554.00</td>\n",
       "      <td>29885.86</td>\n",
       "      <td>M1230701703</td>\n",
       "      <td>0.0</td>\n",
       "      <td>0.00</td>\n",
       "      <td>0</td>\n",
       "      <td>0</td>\n",
       "    </tr>\n",
       "    <tr>\n",
       "      <th>5</th>\n",
       "      <td>1</td>\n",
       "      <td>PAYMENT</td>\n",
       "      <td>7817.71</td>\n",
       "      <td>C90045638</td>\n",
       "      <td>53860.00</td>\n",
       "      <td>46042.29</td>\n",
       "      <td>M573487274</td>\n",
       "      <td>0.0</td>\n",
       "      <td>0.00</td>\n",
       "      <td>0</td>\n",
       "      <td>0</td>\n",
       "    </tr>\n",
       "    <tr>\n",
       "      <th>6</th>\n",
       "      <td>1</td>\n",
       "      <td>PAYMENT</td>\n",
       "      <td>7107.77</td>\n",
       "      <td>C154988899</td>\n",
       "      <td>183195.00</td>\n",
       "      <td>176087.23</td>\n",
       "      <td>M408069119</td>\n",
       "      <td>0.0</td>\n",
       "      <td>0.00</td>\n",
       "      <td>0</td>\n",
       "      <td>0</td>\n",
       "    </tr>\n",
       "    <tr>\n",
       "      <th>7</th>\n",
       "      <td>1</td>\n",
       "      <td>PAYMENT</td>\n",
       "      <td>7861.64</td>\n",
       "      <td>C1912850431</td>\n",
       "      <td>176087.23</td>\n",
       "      <td>168225.59</td>\n",
       "      <td>M633326333</td>\n",
       "      <td>0.0</td>\n",
       "      <td>0.00</td>\n",
       "      <td>0</td>\n",
       "      <td>0</td>\n",
       "    </tr>\n",
       "    <tr>\n",
       "      <th>8</th>\n",
       "      <td>1</td>\n",
       "      <td>PAYMENT</td>\n",
       "      <td>4024.36</td>\n",
       "      <td>C1265012928</td>\n",
       "      <td>2671.00</td>\n",
       "      <td>0.00</td>\n",
       "      <td>M1176932104</td>\n",
       "      <td>0.0</td>\n",
       "      <td>0.00</td>\n",
       "      <td>0</td>\n",
       "      <td>0</td>\n",
       "    </tr>\n",
       "    <tr>\n",
       "      <th>9</th>\n",
       "      <td>1</td>\n",
       "      <td>DEBIT</td>\n",
       "      <td>5337.77</td>\n",
       "      <td>C712410124</td>\n",
       "      <td>41720.00</td>\n",
       "      <td>36382.23</td>\n",
       "      <td>C195600860</td>\n",
       "      <td>41898.0</td>\n",
       "      <td>40348.79</td>\n",
       "      <td>0</td>\n",
       "      <td>0</td>\n",
       "    </tr>\n",
       "  </tbody>\n",
       "</table>\n",
       "</div>"
      ],
      "text/plain": [
       "   step      type    amount     nameOrig  oldbalanceOrg  newbalanceOrig  \\\n",
       "0     1   PAYMENT   9839.64  C1231006815      170136.00       160296.36   \n",
       "1     1   PAYMENT   1864.28  C1666544295       21249.00        19384.72   \n",
       "2     1  TRANSFER    181.00  C1305486145         181.00            0.00   \n",
       "3     1  CASH_OUT    181.00   C840083671         181.00            0.00   \n",
       "4     1   PAYMENT  11668.14  C2048537720       41554.00        29885.86   \n",
       "5     1   PAYMENT   7817.71    C90045638       53860.00        46042.29   \n",
       "6     1   PAYMENT   7107.77   C154988899      183195.00       176087.23   \n",
       "7     1   PAYMENT   7861.64  C1912850431      176087.23       168225.59   \n",
       "8     1   PAYMENT   4024.36  C1265012928        2671.00            0.00   \n",
       "9     1     DEBIT   5337.77   C712410124       41720.00        36382.23   \n",
       "\n",
       "      nameDest  oldbalanceDest  newbalanceDest  isFraud  isFlaggedFraud  \n",
       "0  M1979787155             0.0            0.00        0               0  \n",
       "1  M2044282225             0.0            0.00        0               0  \n",
       "2   C553264065             0.0            0.00        1               0  \n",
       "3    C38997010         21182.0            0.00        1               0  \n",
       "4  M1230701703             0.0            0.00        0               0  \n",
       "5   M573487274             0.0            0.00        0               0  \n",
       "6   M408069119             0.0            0.00        0               0  \n",
       "7   M633326333             0.0            0.00        0               0  \n",
       "8  M1176932104             0.0            0.00        0               0  \n",
       "9   C195600860         41898.0        40348.79        0               0  "
      ]
     },
     "execution_count": 7,
     "metadata": {},
     "output_type": "execute_result"
    }
   ],
   "source": [
    "data.head(10)"
   ]
  },
  {
   "cell_type": "code",
   "execution_count": 8,
   "id": "e636d49a-31ec-4493-9793-53e0ea5b29c8",
   "metadata": {},
   "outputs": [
    {
     "data": {
      "text/html": [
       "<div>\n",
       "<style scoped>\n",
       "    .dataframe tbody tr th:only-of-type {\n",
       "        vertical-align: middle;\n",
       "    }\n",
       "\n",
       "    .dataframe tbody tr th {\n",
       "        vertical-align: top;\n",
       "    }\n",
       "\n",
       "    .dataframe thead th {\n",
       "        text-align: right;\n",
       "    }\n",
       "</style>\n",
       "<table border=\"1\" class=\"dataframe\">\n",
       "  <thead>\n",
       "    <tr style=\"text-align: right;\">\n",
       "      <th></th>\n",
       "      <th>step</th>\n",
       "      <th>type</th>\n",
       "      <th>amount</th>\n",
       "      <th>nameOrig</th>\n",
       "      <th>oldbalanceOrg</th>\n",
       "      <th>newbalanceOrig</th>\n",
       "      <th>nameDest</th>\n",
       "      <th>oldbalanceDest</th>\n",
       "      <th>newbalanceDest</th>\n",
       "      <th>isFraud</th>\n",
       "      <th>isFlaggedFraud</th>\n",
       "    </tr>\n",
       "  </thead>\n",
       "  <tbody>\n",
       "    <tr>\n",
       "      <th>6362610</th>\n",
       "      <td>742</td>\n",
       "      <td>TRANSFER</td>\n",
       "      <td>63416.99</td>\n",
       "      <td>C778071008</td>\n",
       "      <td>63416.99</td>\n",
       "      <td>0.0</td>\n",
       "      <td>C1812552860</td>\n",
       "      <td>0.00</td>\n",
       "      <td>0.00</td>\n",
       "      <td>1</td>\n",
       "      <td>0</td>\n",
       "    </tr>\n",
       "    <tr>\n",
       "      <th>6362611</th>\n",
       "      <td>742</td>\n",
       "      <td>CASH_OUT</td>\n",
       "      <td>63416.99</td>\n",
       "      <td>C994950684</td>\n",
       "      <td>63416.99</td>\n",
       "      <td>0.0</td>\n",
       "      <td>C1662241365</td>\n",
       "      <td>276433.18</td>\n",
       "      <td>339850.17</td>\n",
       "      <td>1</td>\n",
       "      <td>0</td>\n",
       "    </tr>\n",
       "    <tr>\n",
       "      <th>6362612</th>\n",
       "      <td>743</td>\n",
       "      <td>TRANSFER</td>\n",
       "      <td>1258818.82</td>\n",
       "      <td>C1531301470</td>\n",
       "      <td>1258818.82</td>\n",
       "      <td>0.0</td>\n",
       "      <td>C1470998563</td>\n",
       "      <td>0.00</td>\n",
       "      <td>0.00</td>\n",
       "      <td>1</td>\n",
       "      <td>0</td>\n",
       "    </tr>\n",
       "    <tr>\n",
       "      <th>6362613</th>\n",
       "      <td>743</td>\n",
       "      <td>CASH_OUT</td>\n",
       "      <td>1258818.82</td>\n",
       "      <td>C1436118706</td>\n",
       "      <td>1258818.82</td>\n",
       "      <td>0.0</td>\n",
       "      <td>C1240760502</td>\n",
       "      <td>503464.50</td>\n",
       "      <td>1762283.33</td>\n",
       "      <td>1</td>\n",
       "      <td>0</td>\n",
       "    </tr>\n",
       "    <tr>\n",
       "      <th>6362614</th>\n",
       "      <td>743</td>\n",
       "      <td>TRANSFER</td>\n",
       "      <td>339682.13</td>\n",
       "      <td>C2013999242</td>\n",
       "      <td>339682.13</td>\n",
       "      <td>0.0</td>\n",
       "      <td>C1850423904</td>\n",
       "      <td>0.00</td>\n",
       "      <td>0.00</td>\n",
       "      <td>1</td>\n",
       "      <td>0</td>\n",
       "    </tr>\n",
       "    <tr>\n",
       "      <th>6362615</th>\n",
       "      <td>743</td>\n",
       "      <td>CASH_OUT</td>\n",
       "      <td>339682.13</td>\n",
       "      <td>C786484425</td>\n",
       "      <td>339682.13</td>\n",
       "      <td>0.0</td>\n",
       "      <td>C776919290</td>\n",
       "      <td>0.00</td>\n",
       "      <td>339682.13</td>\n",
       "      <td>1</td>\n",
       "      <td>0</td>\n",
       "    </tr>\n",
       "    <tr>\n",
       "      <th>6362616</th>\n",
       "      <td>743</td>\n",
       "      <td>TRANSFER</td>\n",
       "      <td>6311409.28</td>\n",
       "      <td>C1529008245</td>\n",
       "      <td>6311409.28</td>\n",
       "      <td>0.0</td>\n",
       "      <td>C1881841831</td>\n",
       "      <td>0.00</td>\n",
       "      <td>0.00</td>\n",
       "      <td>1</td>\n",
       "      <td>0</td>\n",
       "    </tr>\n",
       "    <tr>\n",
       "      <th>6362617</th>\n",
       "      <td>743</td>\n",
       "      <td>CASH_OUT</td>\n",
       "      <td>6311409.28</td>\n",
       "      <td>C1162922333</td>\n",
       "      <td>6311409.28</td>\n",
       "      <td>0.0</td>\n",
       "      <td>C1365125890</td>\n",
       "      <td>68488.84</td>\n",
       "      <td>6379898.11</td>\n",
       "      <td>1</td>\n",
       "      <td>0</td>\n",
       "    </tr>\n",
       "    <tr>\n",
       "      <th>6362618</th>\n",
       "      <td>743</td>\n",
       "      <td>TRANSFER</td>\n",
       "      <td>850002.52</td>\n",
       "      <td>C1685995037</td>\n",
       "      <td>850002.52</td>\n",
       "      <td>0.0</td>\n",
       "      <td>C2080388513</td>\n",
       "      <td>0.00</td>\n",
       "      <td>0.00</td>\n",
       "      <td>1</td>\n",
       "      <td>0</td>\n",
       "    </tr>\n",
       "    <tr>\n",
       "      <th>6362619</th>\n",
       "      <td>743</td>\n",
       "      <td>CASH_OUT</td>\n",
       "      <td>850002.52</td>\n",
       "      <td>C1280323807</td>\n",
       "      <td>850002.52</td>\n",
       "      <td>0.0</td>\n",
       "      <td>C873221189</td>\n",
       "      <td>6510099.11</td>\n",
       "      <td>7360101.63</td>\n",
       "      <td>1</td>\n",
       "      <td>0</td>\n",
       "    </tr>\n",
       "  </tbody>\n",
       "</table>\n",
       "</div>"
      ],
      "text/plain": [
       "         step      type      amount     nameOrig  oldbalanceOrg  \\\n",
       "6362610   742  TRANSFER    63416.99   C778071008       63416.99   \n",
       "6362611   742  CASH_OUT    63416.99   C994950684       63416.99   \n",
       "6362612   743  TRANSFER  1258818.82  C1531301470     1258818.82   \n",
       "6362613   743  CASH_OUT  1258818.82  C1436118706     1258818.82   \n",
       "6362614   743  TRANSFER   339682.13  C2013999242      339682.13   \n",
       "6362615   743  CASH_OUT   339682.13   C786484425      339682.13   \n",
       "6362616   743  TRANSFER  6311409.28  C1529008245     6311409.28   \n",
       "6362617   743  CASH_OUT  6311409.28  C1162922333     6311409.28   \n",
       "6362618   743  TRANSFER   850002.52  C1685995037      850002.52   \n",
       "6362619   743  CASH_OUT   850002.52  C1280323807      850002.52   \n",
       "\n",
       "         newbalanceOrig     nameDest  oldbalanceDest  newbalanceDest  isFraud  \\\n",
       "6362610             0.0  C1812552860            0.00            0.00        1   \n",
       "6362611             0.0  C1662241365       276433.18       339850.17        1   \n",
       "6362612             0.0  C1470998563            0.00            0.00        1   \n",
       "6362613             0.0  C1240760502       503464.50      1762283.33        1   \n",
       "6362614             0.0  C1850423904            0.00            0.00        1   \n",
       "6362615             0.0   C776919290            0.00       339682.13        1   \n",
       "6362616             0.0  C1881841831            0.00            0.00        1   \n",
       "6362617             0.0  C1365125890        68488.84      6379898.11        1   \n",
       "6362618             0.0  C2080388513            0.00            0.00        1   \n",
       "6362619             0.0   C873221189      6510099.11      7360101.63        1   \n",
       "\n",
       "         isFlaggedFraud  \n",
       "6362610               0  \n",
       "6362611               0  \n",
       "6362612               0  \n",
       "6362613               0  \n",
       "6362614               0  \n",
       "6362615               0  \n",
       "6362616               0  \n",
       "6362617               0  \n",
       "6362618               0  \n",
       "6362619               0  "
      ]
     },
     "execution_count": 8,
     "metadata": {},
     "output_type": "execute_result"
    }
   ],
   "source": [
    "data.tail(10)"
   ]
  },
  {
   "cell_type": "code",
   "execution_count": 9,
   "id": "aa5a9f26-fc31-4b63-b0f7-c89e649d2ba9",
   "metadata": {},
   "outputs": [
    {
     "name": "stdout",
     "output_type": "stream",
     "text": [
      "<class 'pandas.core.frame.DataFrame'>\n",
      "RangeIndex: 6362620 entries, 0 to 6362619\n",
      "Data columns (total 11 columns):\n",
      " #   Column          Dtype  \n",
      "---  ------          -----  \n",
      " 0   step            int64  \n",
      " 1   type            object \n",
      " 2   amount          float64\n",
      " 3   nameOrig        object \n",
      " 4   oldbalanceOrg   float64\n",
      " 5   newbalanceOrig  float64\n",
      " 6   nameDest        object \n",
      " 7   oldbalanceDest  float64\n",
      " 8   newbalanceDest  float64\n",
      " 9   isFraud         int64  \n",
      " 10  isFlaggedFraud  int64  \n",
      "dtypes: float64(5), int64(3), object(3)\n",
      "memory usage: 534.0+ MB\n"
     ]
    }
   ],
   "source": [
    "data.info()"
   ]
  },
  {
   "cell_type": "markdown",
   "id": "5341dd80-5585-48b8-96ea-2f3a2dc770ab",
   "metadata": {},
   "source": [
    "**HANDLING DUPLICATE ROWS**"
   ]
  },
  {
   "cell_type": "code",
   "execution_count": 10,
   "id": "7f238899-b5c1-4bd1-b258-1223158613d7",
   "metadata": {},
   "outputs": [
    {
     "name": "stdout",
     "output_type": "stream",
     "text": [
      "No duplicate rows found\n"
     ]
    }
   ],
   "source": [
    "if data.duplicated().sum() == 0:\n",
    "   print(\"No duplicate rows found\")\n",
    "else:\n",
    "    pint(f\"Yes, there are {data.duplicated().sum()} duplicate rows in the dtataset \\n\")\n",
    "    data.drop_duplicates(inplace=True)\n",
    "    print(data.shape)"
   ]
  },
  {
   "cell_type": "markdown",
   "id": "3e8501fa-ac06-4b6e-9990-c9aa3b840c1c",
   "metadata": {},
   "source": [
    "**HANDLING MISSING VALUES**"
   ]
  },
  {
   "cell_type": "code",
   "execution_count": 11,
   "id": "97f509f8-8243-48b4-8f0a-4ab761a3dc33",
   "metadata": {},
   "outputs": [
    {
     "name": "stdout",
     "output_type": "stream",
     "text": [
      "There are no missing values in the dataset\n"
     ]
    }
   ],
   "source": [
    "if data.isnull().values.any():\n",
    "    print(\"Unfortunately there are null values in the dataset \\n\")\n",
    "    print(data.isnull().sum())\n",
    "else:\n",
    "    print(\"There are no missing values in the dataset\")"
   ]
  },
  {
   "cell_type": "markdown",
   "id": "90eae12b-4c16-4324-8da9-99b246ac3264",
   "metadata": {},
   "source": [
    "**HANDLING OUTLIERS**"
   ]
  },
  {
   "cell_type": "code",
   "execution_count": 12,
   "id": "9653940e-bc6d-4759-8ab3-b1dc4baf51c2",
   "metadata": {},
   "outputs": [
    {
     "data": {
      "image/png": "[encoded data removed]",
      "text/plain": [
       "<Figure size 720x432 with 1 Axes>"
      ]
     },
     "metadata": {
      "needs_background": "light"
     },
     "output_type": "display_data"
    }
   ],
   "source": [
    "plt.figure(figsize=(10,6))\n",
    "sns.boxplot(data=data)\n",
    "plt.title('Boxplot of Your Dataset')\n",
    "plt.xlabel('Features')\n",
    "plt.ylabel('Values')\n",
    "plt.show()"
   ]
  },
  {
   "cell_type": "code",
   "execution_count": 13,
   "id": "a1137928-a0b9-4fae-95ac-23eeac7893ab",
   "metadata": {},
   "outputs": [
    {
     "data": {
      "image/png": "[encoded data removed]",
      "text/plain": [
       "<Figure size 720x432 with 1 Axes>"
      ]
     },
     "metadata": {
      "needs_background": "light"
     },
     "output_type": "display_data"
    }
   ],
   "source": [
    "plt.figure(figsize=(10,6))\n",
    "sns.boxplot(data=data , orient='h')\n",
    "plt.title('Outliers in each feature')\n",
    "plt.xlabel('Features')\n",
    "plt.ylabel('Values')\n",
    "plt.show()"
   ]
  },
  {
   "cell_type": "code",
   "execution_count": 14,
   "id": "d046b83d-2e21-4f2c-87a8-28ed4515d011",
   "metadata": {},
   "outputs": [
    {
     "data": {
      "image/png": "[encoded data removed]",
      "text/plain": [
       "<Figure size 1080x360 with 1 Axes>"
      ]
     },
     "metadata": {
      "needs_background": "light"
     },
     "output_type": "display_data"
    },
    {
     "data": {
      "image/png": "[encoded data removed]",
      "text/plain": [
       "<Figure size 1080x360 with 1 Axes>"
      ]
     },
     "metadata": {
      "needs_background": "light"
     },
     "output_type": "display_data"
    },
    {
     "data": {
      "image/png": "[encoded data removed]",
      "text/plain": [
       "<Figure size 1080x360 with 1 Axes>"
      ]
     },
     "metadata": {
      "needs_background": "light"
     },
     "output_type": "display_data"
    }
   ],
   "source": [
    "coloumns_to_plot = ['amount', 'oldbalanceDest', 'newbalanceDest'] \n",
    "for coloumn in coloumns_to_plot:\n",
    "    plt.figure(figsize=(15,5))\n",
    "    sns.boxplot(x=data[coloumn])\n",
    "    plt.title(f'Boxplot of {coloumn}')\n",
    "    plt.xlabel('Values')\n",
    "    plt.ylabel('Frequency')\n",
    "    \n",
    "    plt.show()\n",
    "                "
   ]
  },
  {
   "cell_type": "code",
   "execution_count": 15,
   "id": "480f15d0-e41c-4593-8814-ed8f66142aa7",
   "metadata": {},
   "outputs": [
    {
     "name": "stdout",
     "output_type": "stream",
     "text": [
      "(5168039, 11)\n"
     ]
    }
   ],
   "source": [
    "features = ['amount', 'oldbalanceDest', 'newbalanceDest'] \n",
    "for feature in features:\n",
    "    lower_bound = data[feature].quantile(0.05)\n",
    "    upper_bound = data[feature].quantile(0.95)\n",
    "    outliers = (data[feature] < lower_bound) | (data[feature] > upper_bound)\n",
    "    data = data[~outliers]\n",
    "    \n",
    "print(data.shape)"
   ]
  },
  {
   "cell_type": "code",
   "execution_count": 16,
   "id": "859eeb76-39a8-4bc8-8d4d-9965daf19a42",
   "metadata": {},
   "outputs": [
    {
     "data": {
      "image/png": "[encoded data removed]",
      "text/plain": [
       "<Figure size 720x432 with 1 Axes>"
      ]
     },
     "metadata": {
      "needs_background": "light"
     },
     "output_type": "display_data"
    }
   ],
   "source": [
    "plt.figure(figsize=(10,6))\n",
    "sns.boxplot(data=data , orient='h')\n",
    "plt.title('Outliers in each feature')\n",
    "plt.xlabel('Features')\n",
    "plt.ylabel('Values')\n",
    "plt.show()"
   ]
  },
  {
   "cell_type": "markdown",
   "id": "e3b357f9-6bb7-4895-9960-fe25c1dba76c",
   "metadata": {},
   "source": [
    "**DATA EXPLORATION**"
   ]
  },
  {
   "cell_type": "code",
   "execution_count": 17,
   "id": "795c61b7-f31d-4ee7-9f26-29a10c39d365",
   "metadata": {},
   "outputs": [
    {
     "data": {
      "text/plain": [
       "array(['PAYMENT', 'DEBIT', 'CASH_OUT', 'TRANSFER', 'CASH_IN'],\n",
       "      dtype=object)"
      ]
     },
     "execution_count": 17,
     "metadata": {},
     "output_type": "execute_result"
    }
   ],
   "source": [
    "data['type'].unique()"
   ]
  },
  {
   "cell_type": "code",
   "execution_count": 18,
   "id": "088ea09d-6d23-4ec5-96e1-859201623de3",
   "metadata": {},
   "outputs": [
    {
     "data": {
      "text/plain": [
       "PAYMENT     1876452\n",
       "CASH_OUT    1858616\n",
       "CASH_IN     1181942\n",
       "TRANSFER     228442\n",
       "DEBIT         22587\n",
       "Name: type, dtype: int64"
      ]
     },
     "execution_count": 18,
     "metadata": {},
     "output_type": "execute_result"
    }
   ],
   "source": [
    "data['type'].value_counts()"
   ]
  },
  {
   "cell_type": "code",
   "execution_count": 19,
   "id": "553be0c7-34a7-4c9c-a61e-04b003913ddf",
   "metadata": {},
   "outputs": [
    {
     "data": {
      "image/png": "[encoded data removed]",
      "text/plain": [
       "<Figure size 720x216 with 1 Axes>"
      ]
     },
     "metadata": {
      "needs_background": "light"
     },
     "output_type": "display_data"
    }
   ],
   "source": [
    "plt.figure(figsize=(10,3))\n",
    "sns.countplot(data = data , palette='coolwarm' , x = 'type')\n",
    "plt.xlabel('Type')\n",
    "plt.ylabel('Counts')\n",
    "plt.grid(axis='y', alpha=0.8)\n",
    "plt.show()"
   ]
  },
  {
   "cell_type": "code",
   "execution_count": 20,
   "id": "32f7c792-6b3b-4270-a92a-e4e769604733",
   "metadata": {},
   "outputs": [],
   "source": [
    "data['type'].replace({'CASH_OUT':0, 'PAYMENT':1, 'CASH_IN':2, 'TRANSFER':3, 'DEBIT':4}, inplace=True)"
   ]
  },
  {
   "cell_type": "code",
   "execution_count": 21,
   "id": "c5678e72-8585-479d-a6ab-e93e2e73f56e",
   "metadata": {},
   "outputs": [
    {
     "data": {
      "text/plain": [
       "1    1876452\n",
       "0    1858616\n",
       "2    1181942\n",
       "3     228442\n",
       "4      22587\n",
       "Name: type, dtype: int64"
      ]
     },
     "execution_count": 21,
     "metadata": {},
     "output_type": "execute_result"
    }
   ],
   "source": [
    "data['type'].value_counts()"
   ]
  },
  {
   "cell_type": "code",
   "execution_count": 22,
   "id": "c56f9355-9662-4f78-b08c-80544f1c2401",
   "metadata": {},
   "outputs": [
    {
     "data": {
      "text/html": [
       "<div>\n",
       "<style scoped>\n",
       "    .dataframe tbody tr th:only-of-type {\n",
       "        vertical-align: middle;\n",
       "    }\n",
       "\n",
       "    .dataframe tbody tr th {\n",
       "        vertical-align: top;\n",
       "    }\n",
       "\n",
       "    .dataframe thead th {\n",
       "        text-align: right;\n",
       "    }\n",
       "</style>\n",
       "<table border=\"1\" class=\"dataframe\">\n",
       "  <thead>\n",
       "    <tr style=\"text-align: right;\">\n",
       "      <th></th>\n",
       "      <th>step</th>\n",
       "      <th>type</th>\n",
       "      <th>amount</th>\n",
       "      <th>nameOrig</th>\n",
       "      <th>oldbalanceOrg</th>\n",
       "      <th>newbalanceOrig</th>\n",
       "      <th>nameDest</th>\n",
       "      <th>oldbalanceDest</th>\n",
       "      <th>newbalanceDest</th>\n",
       "      <th>isFraud</th>\n",
       "      <th>isFlaggedFraud</th>\n",
       "    </tr>\n",
       "  </thead>\n",
       "  <tbody>\n",
       "    <tr>\n",
       "      <th>0</th>\n",
       "      <td>1</td>\n",
       "      <td>1</td>\n",
       "      <td>9839.64</td>\n",
       "      <td>C1231006815</td>\n",
       "      <td>170136.00</td>\n",
       "      <td>160296.36</td>\n",
       "      <td>M1979787155</td>\n",
       "      <td>0.0</td>\n",
       "      <td>0.00</td>\n",
       "      <td>0</td>\n",
       "      <td>0</td>\n",
       "    </tr>\n",
       "    <tr>\n",
       "      <th>4</th>\n",
       "      <td>1</td>\n",
       "      <td>1</td>\n",
       "      <td>11668.14</td>\n",
       "      <td>C2048537720</td>\n",
       "      <td>41554.00</td>\n",
       "      <td>29885.86</td>\n",
       "      <td>M1230701703</td>\n",
       "      <td>0.0</td>\n",
       "      <td>0.00</td>\n",
       "      <td>0</td>\n",
       "      <td>0</td>\n",
       "    </tr>\n",
       "    <tr>\n",
       "      <th>5</th>\n",
       "      <td>1</td>\n",
       "      <td>1</td>\n",
       "      <td>7817.71</td>\n",
       "      <td>C90045638</td>\n",
       "      <td>53860.00</td>\n",
       "      <td>46042.29</td>\n",
       "      <td>M573487274</td>\n",
       "      <td>0.0</td>\n",
       "      <td>0.00</td>\n",
       "      <td>0</td>\n",
       "      <td>0</td>\n",
       "    </tr>\n",
       "    <tr>\n",
       "      <th>6</th>\n",
       "      <td>1</td>\n",
       "      <td>1</td>\n",
       "      <td>7107.77</td>\n",
       "      <td>C154988899</td>\n",
       "      <td>183195.00</td>\n",
       "      <td>176087.23</td>\n",
       "      <td>M408069119</td>\n",
       "      <td>0.0</td>\n",
       "      <td>0.00</td>\n",
       "      <td>0</td>\n",
       "      <td>0</td>\n",
       "    </tr>\n",
       "    <tr>\n",
       "      <th>7</th>\n",
       "      <td>1</td>\n",
       "      <td>1</td>\n",
       "      <td>7861.64</td>\n",
       "      <td>C1912850431</td>\n",
       "      <td>176087.23</td>\n",
       "      <td>168225.59</td>\n",
       "      <td>M633326333</td>\n",
       "      <td>0.0</td>\n",
       "      <td>0.00</td>\n",
       "      <td>0</td>\n",
       "      <td>0</td>\n",
       "    </tr>\n",
       "    <tr>\n",
       "      <th>8</th>\n",
       "      <td>1</td>\n",
       "      <td>1</td>\n",
       "      <td>4024.36</td>\n",
       "      <td>C1265012928</td>\n",
       "      <td>2671.00</td>\n",
       "      <td>0.00</td>\n",
       "      <td>M1176932104</td>\n",
       "      <td>0.0</td>\n",
       "      <td>0.00</td>\n",
       "      <td>0</td>\n",
       "      <td>0</td>\n",
       "    </tr>\n",
       "    <tr>\n",
       "      <th>9</th>\n",
       "      <td>1</td>\n",
       "      <td>4</td>\n",
       "      <td>5337.77</td>\n",
       "      <td>C712410124</td>\n",
       "      <td>41720.00</td>\n",
       "      <td>36382.23</td>\n",
       "      <td>C195600860</td>\n",
       "      <td>41898.0</td>\n",
       "      <td>40348.79</td>\n",
       "      <td>0</td>\n",
       "      <td>0</td>\n",
       "    </tr>\n",
       "    <tr>\n",
       "      <th>10</th>\n",
       "      <td>1</td>\n",
       "      <td>4</td>\n",
       "      <td>9644.94</td>\n",
       "      <td>C1900366749</td>\n",
       "      <td>4465.00</td>\n",
       "      <td>0.00</td>\n",
       "      <td>C997608398</td>\n",
       "      <td>10845.0</td>\n",
       "      <td>157982.12</td>\n",
       "      <td>0</td>\n",
       "      <td>0</td>\n",
       "    </tr>\n",
       "    <tr>\n",
       "      <th>11</th>\n",
       "      <td>1</td>\n",
       "      <td>1</td>\n",
       "      <td>3099.97</td>\n",
       "      <td>C249177573</td>\n",
       "      <td>20771.00</td>\n",
       "      <td>17671.03</td>\n",
       "      <td>M2096539129</td>\n",
       "      <td>0.0</td>\n",
       "      <td>0.00</td>\n",
       "      <td>0</td>\n",
       "      <td>0</td>\n",
       "    </tr>\n",
       "    <tr>\n",
       "      <th>12</th>\n",
       "      <td>1</td>\n",
       "      <td>1</td>\n",
       "      <td>2560.74</td>\n",
       "      <td>C1648232591</td>\n",
       "      <td>5070.00</td>\n",
       "      <td>2509.26</td>\n",
       "      <td>M972865270</td>\n",
       "      <td>0.0</td>\n",
       "      <td>0.00</td>\n",
       "      <td>0</td>\n",
       "      <td>0</td>\n",
       "    </tr>\n",
       "  </tbody>\n",
       "</table>\n",
       "</div>"
      ],
      "text/plain": [
       "    step  type    amount     nameOrig  oldbalanceOrg  newbalanceOrig  \\\n",
       "0      1     1   9839.64  C1231006815      170136.00       160296.36   \n",
       "4      1     1  11668.14  C2048537720       41554.00        29885.86   \n",
       "5      1     1   7817.71    C90045638       53860.00        46042.29   \n",
       "6      1     1   7107.77   C154988899      183195.00       176087.23   \n",
       "7      1     1   7861.64  C1912850431      176087.23       168225.59   \n",
       "8      1     1   4024.36  C1265012928        2671.00            0.00   \n",
       "9      1     4   5337.77   C712410124       41720.00        36382.23   \n",
       "10     1     4   9644.94  C1900366749        4465.00            0.00   \n",
       "11     1     1   3099.97   C249177573       20771.00        17671.03   \n",
       "12     1     1   2560.74  C1648232591        5070.00         2509.26   \n",
       "\n",
       "       nameDest  oldbalanceDest  newbalanceDest  isFraud  isFlaggedFraud  \n",
       "0   M1979787155             0.0            0.00        0               0  \n",
       "4   M1230701703             0.0            0.00        0               0  \n",
       "5    M573487274             0.0            0.00        0               0  \n",
       "6    M408069119             0.0            0.00        0               0  \n",
       "7    M633326333             0.0            0.00        0               0  \n",
       "8   M1176932104             0.0            0.00        0               0  \n",
       "9    C195600860         41898.0        40348.79        0               0  \n",
       "10   C997608398         10845.0       157982.12        0               0  \n",
       "11  M2096539129             0.0            0.00        0               0  \n",
       "12   M972865270             0.0            0.00        0               0  "
      ]
     },
     "execution_count": 22,
     "metadata": {},
     "output_type": "execute_result"
    }
   ],
   "source": [
    "data.head(10)"
   ]
  },
  {
   "cell_type": "markdown",
   "id": "35c38788-6805-4360-a07a-12c1a2f565fb",
   "metadata": {},
   "source": [
    "**EXPLORING 'isFraud' FEATURE**"
   ]
  },
  {
   "cell_type": "code",
   "execution_count": 23,
   "id": "956ed082-0164-4f29-9abc-e17ecbc07cd7",
   "metadata": {},
   "outputs": [
    {
     "data": {
      "text/plain": [
       "array([0, 1])"
      ]
     },
     "execution_count": 23,
     "metadata": {},
     "output_type": "execute_result"
    }
   ],
   "source": [
    "data.isFraud.unique()"
   ]
  },
  {
   "cell_type": "code",
   "execution_count": 24,
   "id": "dbbbf487-1ffa-46e8-8499-a5b79ded3346",
   "metadata": {},
   "outputs": [
    {
     "data": {
      "text/plain": [
       "0    5163916\n",
       "1       4123\n",
       "Name: isFraud, dtype: int64"
      ]
     },
     "execution_count": 24,
     "metadata": {},
     "output_type": "execute_result"
    }
   ],
   "source": [
    "data['isFraud'].value_counts()"
   ]
  },
  {
   "cell_type": "code",
   "execution_count": 25,
   "id": "a1d65272-816e-4819-b3b6-ae532829a751",
   "metadata": {},
   "outputs": [
    {
     "data": {
      "image/png": "[encoded data removed]",
      "text/plain": [
       "<Figure size 864x504 with 1 Axes>"
      ]
     },
     "metadata": {
      "needs_background": "light"
     },
     "output_type": "display_data"
    }
   ],
   "source": [
    "Target_counts = data['isFraud'].value_counts()\n",
    "\n",
    "# Plot\n",
    "plt.figure(figsize=(12, 7))\n",
    "sns.barplot(x=Target_counts.index, y=Target_counts.values)\n",
    "plt.xlabel('Target')\n",
    "plt.ylabel('Count')\n",
    "plt.title('Target Counts \\n (isn\\'t Fraud = 0 || is Fraud = 1)')\n",
    "plt.xticks()\n",
    "plt.grid(axis='y')\n",
    "plt.show()"
   ]
  },
  {
   "cell_type": "markdown",
   "id": "ec7ede9b-a4df-4e6c-88a5-01f4b0ada80c",
   "metadata": {},
   "source": [
    "**DROPPING UNECESSARY FEATURE**"
   ]
  },
  {
   "cell_type": "code",
   "execution_count": 26,
   "id": "833d1902-d001-4775-9fb2-9f24fedc1452",
   "metadata": {},
   "outputs": [],
   "source": [
    "data.drop(['nameOrig','nameDest'] , axis = 1 , inplace = True)"
   ]
  },
  {
   "cell_type": "code",
   "execution_count": 27,
   "id": "7a8d574a-ba12-44e2-bae9-f9815401da9d",
   "metadata": {},
   "outputs": [
    {
     "data": {
      "text/plain": [
       "Index(['step', 'type', 'amount', 'oldbalanceOrg', 'newbalanceOrig',\n",
       "       'oldbalanceDest', 'newbalanceDest', 'isFraud', 'isFlaggedFraud'],\n",
       "      dtype='object')"
      ]
     },
     "execution_count": 27,
     "metadata": {},
     "output_type": "execute_result"
    }
   ],
   "source": [
    "data.columns"
   ]
  },
  {
   "cell_type": "code",
   "execution_count": 28,
   "id": "75a6100e-81fd-49cc-8db2-3c2c58e9e7f1",
   "metadata": {},
   "outputs": [
    {
     "data": {
      "text/plain": [
       "(5168039, 9)"
      ]
     },
     "execution_count": 28,
     "metadata": {},
     "output_type": "execute_result"
    }
   ],
   "source": [
    "data.shape"
   ]
  },
  {
   "cell_type": "markdown",
   "id": "19e764f1-5a3a-4e19-8892-290376286d8b",
   "metadata": {},
   "source": [
    "**FEATURE EXTRACTION**"
   ]
  },
  {
   "cell_type": "code",
   "execution_count": 29,
   "id": "bf3c7dbc-7519-4aa9-89ff-34f7a0819173",
   "metadata": {},
   "outputs": [
    {
     "data": {
      "text/html": [
       "<div>\n",
       "<style scoped>\n",
       "    .dataframe tbody tr th:only-of-type {\n",
       "        vertical-align: middle;\n",
       "    }\n",
       "\n",
       "    .dataframe tbody tr th {\n",
       "        vertical-align: top;\n",
       "    }\n",
       "\n",
       "    .dataframe thead th {\n",
       "        text-align: right;\n",
       "    }\n",
       "</style>\n",
       "<table border=\"1\" class=\"dataframe\">\n",
       "  <thead>\n",
       "    <tr style=\"text-align: right;\">\n",
       "      <th></th>\n",
       "      <th>step</th>\n",
       "      <th>type</th>\n",
       "      <th>amount</th>\n",
       "      <th>oldbalanceOrg</th>\n",
       "      <th>newbalanceOrig</th>\n",
       "      <th>oldbalanceDest</th>\n",
       "      <th>newbalanceDest</th>\n",
       "      <th>isFraud</th>\n",
       "      <th>isFlaggedFraud</th>\n",
       "    </tr>\n",
       "  </thead>\n",
       "  <tbody>\n",
       "    <tr>\n",
       "      <th>step</th>\n",
       "      <td>1.000000</td>\n",
       "      <td>0.006730</td>\n",
       "      <td>-0.013481</td>\n",
       "      <td>-0.012156</td>\n",
       "      <td>-0.011885</td>\n",
       "      <td>-0.009932</td>\n",
       "      <td>-0.022277</td>\n",
       "      <td>0.023976</td>\n",
       "      <td>0.001632</td>\n",
       "    </tr>\n",
       "    <tr>\n",
       "      <th>type</th>\n",
       "      <td>0.006730</td>\n",
       "      <td>1.000000</td>\n",
       "      <td>0.019814</td>\n",
       "      <td>0.310743</td>\n",
       "      <td>0.324105</td>\n",
       "      <td>0.039126</td>\n",
       "      <td>-0.074857</td>\n",
       "      <td>0.018671</td>\n",
       "      <td>0.001408</td>\n",
       "    </tr>\n",
       "    <tr>\n",
       "      <th>amount</th>\n",
       "      <td>-0.013481</td>\n",
       "      <td>0.019814</td>\n",
       "      <td>1.000000</td>\n",
       "      <td>0.088077</td>\n",
       "      <td>0.098288</td>\n",
       "      <td>0.356692</td>\n",
       "      <td>0.427751</td>\n",
       "      <td>0.016436</td>\n",
       "      <td>0.001372</td>\n",
       "    </tr>\n",
       "    <tr>\n",
       "      <th>oldbalanceOrg</th>\n",
       "      <td>-0.012156</td>\n",
       "      <td>0.310743</td>\n",
       "      <td>0.088077</td>\n",
       "      <td>1.000000</td>\n",
       "      <td>0.999482</td>\n",
       "      <td>0.194578</td>\n",
       "      <td>0.109648</td>\n",
       "      <td>-0.006374</td>\n",
       "      <td>0.000980</td>\n",
       "    </tr>\n",
       "    <tr>\n",
       "      <th>newbalanceOrig</th>\n",
       "      <td>-0.011885</td>\n",
       "      <td>0.324105</td>\n",
       "      <td>0.098288</td>\n",
       "      <td>0.999482</td>\n",
       "      <td>1.000000</td>\n",
       "      <td>0.199321</td>\n",
       "      <td>0.109915</td>\n",
       "      <td>-0.008269</td>\n",
       "      <td>0.000963</td>\n",
       "    </tr>\n",
       "    <tr>\n",
       "      <th>oldbalanceDest</th>\n",
       "      <td>-0.009932</td>\n",
       "      <td>0.039126</td>\n",
       "      <td>0.356692</td>\n",
       "      <td>0.194578</td>\n",
       "      <td>0.199321</td>\n",
       "      <td>1.000000</td>\n",
       "      <td>0.965340</td>\n",
       "      <td>-0.009953</td>\n",
       "      <td>-0.000396</td>\n",
       "    </tr>\n",
       "    <tr>\n",
       "      <th>newbalanceDest</th>\n",
       "      <td>-0.022277</td>\n",
       "      <td>-0.074857</td>\n",
       "      <td>0.427751</td>\n",
       "      <td>0.109648</td>\n",
       "      <td>0.109915</td>\n",
       "      <td>0.965340</td>\n",
       "      <td>1.000000</td>\n",
       "      <td>-0.007713</td>\n",
       "      <td>-0.000424</td>\n",
       "    </tr>\n",
       "    <tr>\n",
       "      <th>isFraud</th>\n",
       "      <td>0.023976</td>\n",
       "      <td>0.018671</td>\n",
       "      <td>0.016436</td>\n",
       "      <td>-0.006374</td>\n",
       "      <td>-0.008269</td>\n",
       "      <td>-0.009953</td>\n",
       "      <td>-0.007713</td>\n",
       "      <td>1.000000</td>\n",
       "      <td>0.022016</td>\n",
       "    </tr>\n",
       "    <tr>\n",
       "      <th>isFlaggedFraud</th>\n",
       "      <td>0.001632</td>\n",
       "      <td>0.001408</td>\n",
       "      <td>0.001372</td>\n",
       "      <td>0.000980</td>\n",
       "      <td>0.000963</td>\n",
       "      <td>-0.000396</td>\n",
       "      <td>-0.000424</td>\n",
       "      <td>0.022016</td>\n",
       "      <td>1.000000</td>\n",
       "    </tr>\n",
       "  </tbody>\n",
       "</table>\n",
       "</div>"
      ],
      "text/plain": [
       "                    step      type    amount  oldbalanceOrg  newbalanceOrig  \\\n",
       "step            1.000000  0.006730 -0.013481      -0.012156       -0.011885   \n",
       "type            0.006730  1.000000  0.019814       0.310743        0.324105   \n",
       "amount         -0.013481  0.019814  1.000000       0.088077        0.098288   \n",
       "oldbalanceOrg  -0.012156  0.310743  0.088077       1.000000        0.999482   \n",
       "newbalanceOrig -0.011885  0.324105  0.098288       0.999482        1.000000   \n",
       "oldbalanceDest -0.009932  0.039126  0.356692       0.194578        0.199321   \n",
       "newbalanceDest -0.022277 -0.074857  0.427751       0.109648        0.109915   \n",
       "isFraud         0.023976  0.018671  0.016436      -0.006374       -0.008269   \n",
       "isFlaggedFraud  0.001632  0.001408  0.001372       0.000980        0.000963   \n",
       "\n",
       "                oldbalanceDest  newbalanceDest   isFraud  isFlaggedFraud  \n",
       "step                 -0.009932       -0.022277  0.023976        0.001632  \n",
       "type                  0.039126       -0.074857  0.018671        0.001408  \n",
       "amount                0.356692        0.427751  0.016436        0.001372  \n",
       "oldbalanceOrg         0.194578        0.109648 -0.006374        0.000980  \n",
       "newbalanceOrig        0.199321        0.109915 -0.008269        0.000963  \n",
       "oldbalanceDest        1.000000        0.965340 -0.009953       -0.000396  \n",
       "newbalanceDest        0.965340        1.000000 -0.007713       -0.000424  \n",
       "isFraud              -0.009953       -0.007713  1.000000        0.022016  \n",
       "isFlaggedFraud       -0.000396       -0.000424  0.022016        1.000000  "
      ]
     },
     "execution_count": 29,
     "metadata": {},
     "output_type": "execute_result"
    }
   ],
   "source": [
    "data.corr()"
   ]
  },
  {
   "cell_type": "code",
   "execution_count": 30,
   "id": "94ee86e2-949f-42d3-951f-2b0a4d67aaa1",
   "metadata": {},
   "outputs": [
    {
     "data": {
      "image/png": "[encoded data removed]",
      "text/plain": [
       "<Figure size 576x576 with 2 Axes>"
      ]
     },
     "metadata": {
      "needs_background": "light"
     },
     "output_type": "display_data"
    }
   ],
   "source": [
    "plt.figure(figsize=(8,8))\n",
    "sns.heatmap(data.corr(), annot=True , linewidths=0.9 , fmt = \".1f\" , cmap = 'Spectral')\n",
    "plt.show()"
   ]
  },
  {
   "cell_type": "markdown",
   "id": "01bfb7c2-2bf2-4d61-a0d1-001db46016a1",
   "metadata": {},
   "source": [
    "**⚑ Correlation between oldbalanceOrg and newbalanceOrig = (0.99)**"
   ]
  },
  {
   "cell_type": "code",
   "execution_count": 31,
   "id": "36b4e182-b85c-4585-ac89-ede4587a2857",
   "metadata": {},
   "outputs": [
    {
     "data": {
      "image/png": "[encoded data removed]",
      "text/plain": [
       "<Figure size 432x288 with 1 Axes>"
      ]
     },
     "metadata": {
      "needs_background": "light"
     },
     "output_type": "display_data"
    }
   ],
   "source": [
    "plt.scatter(data['oldbalanceOrg'], data['newbalanceOrig'], label='Data')\n",
    "plt.xlabel('oldbalanceOrg')\n",
    "plt.ylabel('newbalanceOrig')\n",
    "plt.title('oldbalanceOrg vs. newbalanceOrig')\n",
    "plt.grid(True)\n",
    "plt.show()"
   ]
  },
  {
   "cell_type": "markdown",
   "id": "ebb71170-fbe2-40a5-b459-defe1ebd243d",
   "metadata": {},
   "source": [
    "**⚑ Correlation between oldbalanceDest and newbalanceDest = (0.97)**"
   ]
  },
  {
   "cell_type": "code",
   "execution_count": 32,
   "id": "464ddc68-f4cb-4d19-9792-8ae0361dcfe4",
   "metadata": {},
   "outputs": [
    {
     "data": {
      "image/png": "[encoded data removed]",
      "text/plain": [
       "<Figure size 432x288 with 1 Axes>"
      ]
     },
     "metadata": {
      "needs_background": "light"
     },
     "output_type": "display_data"
    }
   ],
   "source": [
    "plt.scatter(data['oldbalanceDest'], data['newbalanceOrig'], label='Data')\n",
    "plt.xlabel('oldbalanceDest')\n",
    "plt.ylabel('newbalanceOrig')\n",
    "plt.title('oldbalanceDest vs. newbalanceOrig')\n",
    "plt.grid(True)\n",
    "plt.show()"
   ]
  },
  {
   "cell_type": "markdown",
   "id": "7df84af9-d8f3-4c3b-b81c-c3921e21c117",
   "metadata": {},
   "source": [
    "**DROPPING UNECESSARY FEATURES BASED ON CORRELATION**"
   ]
  },
  {
   "cell_type": "code",
   "execution_count": 33,
   "id": "2f621436-3bb6-4b9c-bbff-d5875254cd27",
   "metadata": {},
   "outputs": [],
   "source": [
    "data.drop(['isFlaggedFraud'] , axis = 1 , inplace = True)\n",
    "data.drop(['step'] , axis = 1 , inplace = True)"
   ]
  },
  {
   "cell_type": "code",
   "execution_count": 34,
   "id": "277106c9-d28c-4d87-9b60-4d0b23be4354",
   "metadata": {},
   "outputs": [
    {
     "data": {
      "text/plain": [
       "Index(['type', 'amount', 'oldbalanceOrg', 'newbalanceOrig', 'oldbalanceDest',\n",
       "       'newbalanceDest', 'isFraud'],\n",
       "      dtype='object')"
      ]
     },
     "execution_count": 34,
     "metadata": {},
     "output_type": "execute_result"
    }
   ],
   "source": [
    "data.columns\n"
   ]
  },
  {
   "cell_type": "code",
   "execution_count": 35,
   "id": "b315ceb5-d1b8-42a9-b400-89447158179f",
   "metadata": {},
   "outputs": [
    {
     "data": {
      "text/plain": [
       "(5168039, 7)"
      ]
     },
     "execution_count": 35,
     "metadata": {},
     "output_type": "execute_result"
    }
   ],
   "source": [
    "data.shape"
   ]
  },
  {
   "cell_type": "code",
   "execution_count": 36,
   "id": "fd13e56a-e894-4538-8a6d-60a51f5d5c91",
   "metadata": {},
   "outputs": [
    {
     "data": {
      "text/plain": [
       "<bound method DataFrame.info of          type     amount  oldbalanceOrg  newbalanceOrig  oldbalanceDest  \\\n",
       "0           1    9839.64      170136.00       160296.36            0.00   \n",
       "4           1   11668.14       41554.00        29885.86            0.00   \n",
       "5           1    7817.71       53860.00        46042.29            0.00   \n",
       "6           1    7107.77      183195.00       176087.23            0.00   \n",
       "7           1    7861.64      176087.23       168225.59            0.00   \n",
       "...       ...        ...            ...             ...             ...   \n",
       "6362609     0  258355.42      258355.42            0.00        25176.67   \n",
       "6362610     3   63416.99       63416.99            0.00            0.00   \n",
       "6362611     0   63416.99       63416.99            0.00       276433.18   \n",
       "6362614     3  339682.13      339682.13            0.00            0.00   \n",
       "6362615     0  339682.13      339682.13            0.00            0.00   \n",
       "\n",
       "         newbalanceDest  isFraud  \n",
       "0                  0.00        0  \n",
       "4                  0.00        0  \n",
       "5                  0.00        0  \n",
       "6                  0.00        0  \n",
       "7                  0.00        0  \n",
       "...                 ...      ...  \n",
       "6362609       283532.09        1  \n",
       "6362610            0.00        1  \n",
       "6362611       339850.17        1  \n",
       "6362614            0.00        1  \n",
       "6362615       339682.13        1  \n",
       "\n",
       "[5168039 rows x 7 columns]>"
      ]
     },
     "execution_count": 36,
     "metadata": {},
     "output_type": "execute_result"
    }
   ],
   "source": [
    "data.info"
   ]
  },
  {
   "cell_type": "code",
   "execution_count": 37,
   "id": "0a89cd2c-c532-418e-a884-949beb5a66c2",
   "metadata": {},
   "outputs": [
    {
     "name": "stdout",
     "output_type": "stream",
     "text": [
      "<class 'pandas.core.frame.DataFrame'>\n",
      "Int64Index: 5168039 entries, 0 to 6362615\n",
      "Data columns (total 7 columns):\n",
      " #   Column          Dtype  \n",
      "---  ------          -----  \n",
      " 0   type            int64  \n",
      " 1   amount          float64\n",
      " 2   oldbalanceOrg   float64\n",
      " 3   newbalanceOrig  float64\n",
      " 4   oldbalanceDest  float64\n",
      " 5   newbalanceDest  float64\n",
      " 6   isFraud         int64  \n",
      "dtypes: float64(5), int64(2)\n",
      "memory usage: 315.4 MB\n"
     ]
    }
   ],
   "source": [
    "data.info()"
   ]
  },
  {
   "cell_type": "code",
   "execution_count": 38,
   "id": "7f759663-c607-4585-8bc0-65151fd59b5e",
   "metadata": {},
   "outputs": [
    {
     "data": {
      "text/html": [
       "<div>\n",
       "<style scoped>\n",
       "    .dataframe tbody tr th:only-of-type {\n",
       "        vertical-align: middle;\n",
       "    }\n",
       "\n",
       "    .dataframe tbody tr th {\n",
       "        vertical-align: top;\n",
       "    }\n",
       "\n",
       "    .dataframe thead th {\n",
       "        text-align: right;\n",
       "    }\n",
       "</style>\n",
       "<table border=\"1\" class=\"dataframe\">\n",
       "  <thead>\n",
       "    <tr style=\"text-align: right;\">\n",
       "      <th></th>\n",
       "      <th>type</th>\n",
       "      <th>amount</th>\n",
       "      <th>oldbalanceOrg</th>\n",
       "      <th>newbalanceOrig</th>\n",
       "      <th>oldbalanceDest</th>\n",
       "      <th>newbalanceDest</th>\n",
       "      <th>isFraud</th>\n",
       "    </tr>\n",
       "  </thead>\n",
       "  <tbody>\n",
       "    <tr>\n",
       "      <th>0</th>\n",
       "      <td>1</td>\n",
       "      <td>9839.64</td>\n",
       "      <td>170136.00</td>\n",
       "      <td>160296.36</td>\n",
       "      <td>0.0</td>\n",
       "      <td>0.00</td>\n",
       "      <td>0</td>\n",
       "    </tr>\n",
       "    <tr>\n",
       "      <th>4</th>\n",
       "      <td>1</td>\n",
       "      <td>11668.14</td>\n",
       "      <td>41554.00</td>\n",
       "      <td>29885.86</td>\n",
       "      <td>0.0</td>\n",
       "      <td>0.00</td>\n",
       "      <td>0</td>\n",
       "    </tr>\n",
       "    <tr>\n",
       "      <th>5</th>\n",
       "      <td>1</td>\n",
       "      <td>7817.71</td>\n",
       "      <td>53860.00</td>\n",
       "      <td>46042.29</td>\n",
       "      <td>0.0</td>\n",
       "      <td>0.00</td>\n",
       "      <td>0</td>\n",
       "    </tr>\n",
       "    <tr>\n",
       "      <th>6</th>\n",
       "      <td>1</td>\n",
       "      <td>7107.77</td>\n",
       "      <td>183195.00</td>\n",
       "      <td>176087.23</td>\n",
       "      <td>0.0</td>\n",
       "      <td>0.00</td>\n",
       "      <td>0</td>\n",
       "    </tr>\n",
       "    <tr>\n",
       "      <th>7</th>\n",
       "      <td>1</td>\n",
       "      <td>7861.64</td>\n",
       "      <td>176087.23</td>\n",
       "      <td>168225.59</td>\n",
       "      <td>0.0</td>\n",
       "      <td>0.00</td>\n",
       "      <td>0</td>\n",
       "    </tr>\n",
       "    <tr>\n",
       "      <th>8</th>\n",
       "      <td>1</td>\n",
       "      <td>4024.36</td>\n",
       "      <td>2671.00</td>\n",
       "      <td>0.00</td>\n",
       "      <td>0.0</td>\n",
       "      <td>0.00</td>\n",
       "      <td>0</td>\n",
       "    </tr>\n",
       "    <tr>\n",
       "      <th>9</th>\n",
       "      <td>4</td>\n",
       "      <td>5337.77</td>\n",
       "      <td>41720.00</td>\n",
       "      <td>36382.23</td>\n",
       "      <td>41898.0</td>\n",
       "      <td>40348.79</td>\n",
       "      <td>0</td>\n",
       "    </tr>\n",
       "    <tr>\n",
       "      <th>10</th>\n",
       "      <td>4</td>\n",
       "      <td>9644.94</td>\n",
       "      <td>4465.00</td>\n",
       "      <td>0.00</td>\n",
       "      <td>10845.0</td>\n",
       "      <td>157982.12</td>\n",
       "      <td>0</td>\n",
       "    </tr>\n",
       "    <tr>\n",
       "      <th>11</th>\n",
       "      <td>1</td>\n",
       "      <td>3099.97</td>\n",
       "      <td>20771.00</td>\n",
       "      <td>17671.03</td>\n",
       "      <td>0.0</td>\n",
       "      <td>0.00</td>\n",
       "      <td>0</td>\n",
       "    </tr>\n",
       "    <tr>\n",
       "      <th>12</th>\n",
       "      <td>1</td>\n",
       "      <td>2560.74</td>\n",
       "      <td>5070.00</td>\n",
       "      <td>2509.26</td>\n",
       "      <td>0.0</td>\n",
       "      <td>0.00</td>\n",
       "      <td>0</td>\n",
       "    </tr>\n",
       "  </tbody>\n",
       "</table>\n",
       "</div>"
      ],
      "text/plain": [
       "    type    amount  oldbalanceOrg  newbalanceOrig  oldbalanceDest  \\\n",
       "0      1   9839.64      170136.00       160296.36             0.0   \n",
       "4      1  11668.14       41554.00        29885.86             0.0   \n",
       "5      1   7817.71       53860.00        46042.29             0.0   \n",
       "6      1   7107.77      183195.00       176087.23             0.0   \n",
       "7      1   7861.64      176087.23       168225.59             0.0   \n",
       "8      1   4024.36        2671.00            0.00             0.0   \n",
       "9      4   5337.77       41720.00        36382.23         41898.0   \n",
       "10     4   9644.94        4465.00            0.00         10845.0   \n",
       "11     1   3099.97       20771.00        17671.03             0.0   \n",
       "12     1   2560.74        5070.00         2509.26             0.0   \n",
       "\n",
       "    newbalanceDest  isFraud  \n",
       "0             0.00        0  \n",
       "4             0.00        0  \n",
       "5             0.00        0  \n",
       "6             0.00        0  \n",
       "7             0.00        0  \n",
       "8             0.00        0  \n",
       "9         40348.79        0  \n",
       "10       157982.12        0  \n",
       "11            0.00        0  \n",
       "12            0.00        0  "
      ]
     },
     "execution_count": 38,
     "metadata": {},
     "output_type": "execute_result"
    }
   ],
   "source": [
    "data.head(10)"
   ]
  },
  {
   "cell_type": "code",
   "execution_count": 39,
   "id": "9755d3b6-70d8-442f-a845-0e56895479e7",
   "metadata": {},
   "outputs": [
    {
     "data": {
      "text/html": [
       "<div>\n",
       "<style scoped>\n",
       "    .dataframe tbody tr th:only-of-type {\n",
       "        vertical-align: middle;\n",
       "    }\n",
       "\n",
       "    .dataframe tbody tr th {\n",
       "        vertical-align: top;\n",
       "    }\n",
       "\n",
       "    .dataframe thead th {\n",
       "        text-align: right;\n",
       "    }\n",
       "</style>\n",
       "<table border=\"1\" class=\"dataframe\">\n",
       "  <thead>\n",
       "    <tr style=\"text-align: right;\">\n",
       "      <th></th>\n",
       "      <th>type</th>\n",
       "      <th>amount</th>\n",
       "      <th>oldbalanceOrg</th>\n",
       "      <th>newbalanceOrig</th>\n",
       "      <th>oldbalanceDest</th>\n",
       "      <th>newbalanceDest</th>\n",
       "      <th>isFraud</th>\n",
       "    </tr>\n",
       "  </thead>\n",
       "  <tbody>\n",
       "    <tr>\n",
       "      <th>6362604</th>\n",
       "      <td>3</td>\n",
       "      <td>54652.46</td>\n",
       "      <td>54652.46</td>\n",
       "      <td>0.0</td>\n",
       "      <td>0.00</td>\n",
       "      <td>0.00</td>\n",
       "      <td>1</td>\n",
       "    </tr>\n",
       "    <tr>\n",
       "      <th>6362605</th>\n",
       "      <td>0</td>\n",
       "      <td>54652.46</td>\n",
       "      <td>54652.46</td>\n",
       "      <td>0.0</td>\n",
       "      <td>0.00</td>\n",
       "      <td>54652.46</td>\n",
       "      <td>1</td>\n",
       "    </tr>\n",
       "    <tr>\n",
       "      <th>6362606</th>\n",
       "      <td>3</td>\n",
       "      <td>303846.74</td>\n",
       "      <td>303846.74</td>\n",
       "      <td>0.0</td>\n",
       "      <td>0.00</td>\n",
       "      <td>0.00</td>\n",
       "      <td>1</td>\n",
       "    </tr>\n",
       "    <tr>\n",
       "      <th>6362607</th>\n",
       "      <td>0</td>\n",
       "      <td>303846.74</td>\n",
       "      <td>303846.74</td>\n",
       "      <td>0.0</td>\n",
       "      <td>343660.89</td>\n",
       "      <td>647507.63</td>\n",
       "      <td>1</td>\n",
       "    </tr>\n",
       "    <tr>\n",
       "      <th>6362608</th>\n",
       "      <td>3</td>\n",
       "      <td>258355.42</td>\n",
       "      <td>258355.42</td>\n",
       "      <td>0.0</td>\n",
       "      <td>0.00</td>\n",
       "      <td>0.00</td>\n",
       "      <td>1</td>\n",
       "    </tr>\n",
       "    <tr>\n",
       "      <th>6362609</th>\n",
       "      <td>0</td>\n",
       "      <td>258355.42</td>\n",
       "      <td>258355.42</td>\n",
       "      <td>0.0</td>\n",
       "      <td>25176.67</td>\n",
       "      <td>283532.09</td>\n",
       "      <td>1</td>\n",
       "    </tr>\n",
       "    <tr>\n",
       "      <th>6362610</th>\n",
       "      <td>3</td>\n",
       "      <td>63416.99</td>\n",
       "      <td>63416.99</td>\n",
       "      <td>0.0</td>\n",
       "      <td>0.00</td>\n",
       "      <td>0.00</td>\n",
       "      <td>1</td>\n",
       "    </tr>\n",
       "    <tr>\n",
       "      <th>6362611</th>\n",
       "      <td>0</td>\n",
       "      <td>63416.99</td>\n",
       "      <td>63416.99</td>\n",
       "      <td>0.0</td>\n",
       "      <td>276433.18</td>\n",
       "      <td>339850.17</td>\n",
       "      <td>1</td>\n",
       "    </tr>\n",
       "    <tr>\n",
       "      <th>6362614</th>\n",
       "      <td>3</td>\n",
       "      <td>339682.13</td>\n",
       "      <td>339682.13</td>\n",
       "      <td>0.0</td>\n",
       "      <td>0.00</td>\n",
       "      <td>0.00</td>\n",
       "      <td>1</td>\n",
       "    </tr>\n",
       "    <tr>\n",
       "      <th>6362615</th>\n",
       "      <td>0</td>\n",
       "      <td>339682.13</td>\n",
       "      <td>339682.13</td>\n",
       "      <td>0.0</td>\n",
       "      <td>0.00</td>\n",
       "      <td>339682.13</td>\n",
       "      <td>1</td>\n",
       "    </tr>\n",
       "  </tbody>\n",
       "</table>\n",
       "</div>"
      ],
      "text/plain": [
       "         type     amount  oldbalanceOrg  newbalanceOrig  oldbalanceDest  \\\n",
       "6362604     3   54652.46       54652.46             0.0            0.00   \n",
       "6362605     0   54652.46       54652.46             0.0            0.00   \n",
       "6362606     3  303846.74      303846.74             0.0            0.00   \n",
       "6362607     0  303846.74      303846.74             0.0       343660.89   \n",
       "6362608     3  258355.42      258355.42             0.0            0.00   \n",
       "6362609     0  258355.42      258355.42             0.0        25176.67   \n",
       "6362610     3   63416.99       63416.99             0.0            0.00   \n",
       "6362611     0   63416.99       63416.99             0.0       276433.18   \n",
       "6362614     3  339682.13      339682.13             0.0            0.00   \n",
       "6362615     0  339682.13      339682.13             0.0            0.00   \n",
       "\n",
       "         newbalanceDest  isFraud  \n",
       "6362604            0.00        1  \n",
       "6362605        54652.46        1  \n",
       "6362606            0.00        1  \n",
       "6362607       647507.63        1  \n",
       "6362608            0.00        1  \n",
       "6362609       283532.09        1  \n",
       "6362610            0.00        1  \n",
       "6362611       339850.17        1  \n",
       "6362614            0.00        1  \n",
       "6362615       339682.13        1  "
      ]
     },
     "execution_count": 39,
     "metadata": {},
     "output_type": "execute_result"
    }
   ],
   "source": [
    "data.tail(10)"
   ]
  },
  {
   "cell_type": "code",
   "execution_count": 40,
   "id": "6687e14a-4f4b-46c1-8afa-5c4185cc359f",
   "metadata": {},
   "outputs": [
    {
     "data": {
      "text/html": [
       "<div>\n",
       "<style scoped>\n",
       "    .dataframe tbody tr th:only-of-type {\n",
       "        vertical-align: middle;\n",
       "    }\n",
       "\n",
       "    .dataframe tbody tr th {\n",
       "        vertical-align: top;\n",
       "    }\n",
       "\n",
       "    .dataframe thead th {\n",
       "        text-align: right;\n",
       "    }\n",
       "</style>\n",
       "<table border=\"1\" class=\"dataframe\">\n",
       "  <thead>\n",
       "    <tr style=\"text-align: right;\">\n",
       "      <th></th>\n",
       "      <th>type</th>\n",
       "      <th>amount</th>\n",
       "      <th>oldbalanceOrg</th>\n",
       "      <th>newbalanceOrig</th>\n",
       "      <th>oldbalanceDest</th>\n",
       "      <th>newbalanceDest</th>\n",
       "      <th>isFraud</th>\n",
       "    </tr>\n",
       "  </thead>\n",
       "  <tbody>\n",
       "    <tr>\n",
       "      <th>count</th>\n",
       "      <td>5.168039e+06</td>\n",
       "      <td>5.168039e+06</td>\n",
       "      <td>5.168039e+06</td>\n",
       "      <td>5.168039e+06</td>\n",
       "      <td>5.168039e+06</td>\n",
       "      <td>5.168039e+06</td>\n",
       "      <td>5.168039e+06</td>\n",
       "    </tr>\n",
       "    <tr>\n",
       "      <th>mean</th>\n",
       "      <td>9.705828e-01</td>\n",
       "      <td>1.115780e+05</td>\n",
       "      <td>8.334547e+05</td>\n",
       "      <td>8.570534e+05</td>\n",
       "      <td>4.031965e+05</td>\n",
       "      <td>4.483916e+05</td>\n",
       "      <td>7.977881e-04</td>\n",
       "    </tr>\n",
       "    <tr>\n",
       "      <th>std</th>\n",
       "      <td>8.964483e-01</td>\n",
       "      <td>1.200733e+05</td>\n",
       "      <td>2.884098e+06</td>\n",
       "      <td>2.919460e+06</td>\n",
       "      <td>6.327152e+05</td>\n",
       "      <td>6.581748e+05</td>\n",
       "      <td>2.823388e-02</td>\n",
       "    </tr>\n",
       "    <tr>\n",
       "      <th>min</th>\n",
       "      <td>0.000000e+00</td>\n",
       "      <td>2.224100e+03</td>\n",
       "      <td>0.000000e+00</td>\n",
       "      <td>0.000000e+00</td>\n",
       "      <td>0.000000e+00</td>\n",
       "      <td>0.000000e+00</td>\n",
       "      <td>0.000000e+00</td>\n",
       "    </tr>\n",
       "    <tr>\n",
       "      <th>25%</th>\n",
       "      <td>0.000000e+00</td>\n",
       "      <td>1.389410e+04</td>\n",
       "      <td>0.000000e+00</td>\n",
       "      <td>0.000000e+00</td>\n",
       "      <td>0.000000e+00</td>\n",
       "      <td>0.000000e+00</td>\n",
       "      <td>0.000000e+00</td>\n",
       "    </tr>\n",
       "    <tr>\n",
       "      <th>50%</th>\n",
       "      <td>1.000000e+00</td>\n",
       "      <td>6.239752e+04</td>\n",
       "      <td>1.577700e+04</td>\n",
       "      <td>0.000000e+00</td>\n",
       "      <td>5.664439e+04</td>\n",
       "      <td>1.277501e+05</td>\n",
       "      <td>0.000000e+00</td>\n",
       "    </tr>\n",
       "    <tr>\n",
       "      <th>75%</th>\n",
       "      <td>2.000000e+00</td>\n",
       "      <td>1.805312e+05</td>\n",
       "      <td>1.099190e+05</td>\n",
       "      <td>1.592060e+05</td>\n",
       "      <td>5.618719e+05</td>\n",
       "      <td>6.516992e+05</td>\n",
       "      <td>0.000000e+00</td>\n",
       "    </tr>\n",
       "    <tr>\n",
       "      <th>max</th>\n",
       "      <td>4.000000e+00</td>\n",
       "      <td>5.186330e+05</td>\n",
       "      <td>4.368662e+07</td>\n",
       "      <td>4.367380e+07</td>\n",
       "      <td>4.777231e+06</td>\n",
       "      <td>2.914612e+06</td>\n",
       "      <td>1.000000e+00</td>\n",
       "    </tr>\n",
       "  </tbody>\n",
       "</table>\n",
       "</div>"
      ],
      "text/plain": [
       "               type        amount  oldbalanceOrg  newbalanceOrig  \\\n",
       "count  5.168039e+06  5.168039e+06   5.168039e+06    5.168039e+06   \n",
       "mean   9.705828e-01  1.115780e+05   8.334547e+05    8.570534e+05   \n",
       "std    8.964483e-01  1.200733e+05   2.884098e+06    2.919460e+06   \n",
       "min    0.000000e+00  2.224100e+03   0.000000e+00    0.000000e+00   \n",
       "25%    0.000000e+00  1.389410e+04   0.000000e+00    0.000000e+00   \n",
       "50%    1.000000e+00  6.239752e+04   1.577700e+04    0.000000e+00   \n",
       "75%    2.000000e+00  1.805312e+05   1.099190e+05    1.592060e+05   \n",
       "max    4.000000e+00  5.186330e+05   4.368662e+07    4.367380e+07   \n",
       "\n",
       "       oldbalanceDest  newbalanceDest       isFraud  \n",
       "count    5.168039e+06    5.168039e+06  5.168039e+06  \n",
       "mean     4.031965e+05    4.483916e+05  7.977881e-04  \n",
       "std      6.327152e+05    6.581748e+05  2.823388e-02  \n",
       "min      0.000000e+00    0.000000e+00  0.000000e+00  \n",
       "25%      0.000000e+00    0.000000e+00  0.000000e+00  \n",
       "50%      5.664439e+04    1.277501e+05  0.000000e+00  \n",
       "75%      5.618719e+05    6.516992e+05  0.000000e+00  \n",
       "max      4.777231e+06    2.914612e+06  1.000000e+00  "
      ]
     },
     "execution_count": 40,
     "metadata": {},
     "output_type": "execute_result"
    }
   ],
   "source": [
    "data.describe()"
   ]
  },
  {
   "cell_type": "markdown",
   "id": "84393d4a-f5d1-4bf5-9283-c0d1988a345a",
   "metadata": {},
   "source": [
    "**SPLITTING THE DATA AND TARGET**"
   ]
  },
  {
   "cell_type": "code",
   "execution_count": 41,
   "id": "f53fc7af-7b28-4c21-a309-5301c1bc6a11",
   "metadata": {},
   "outputs": [
    {
     "name": "stdout",
     "output_type": "stream",
     "text": [
      "x shape is :  (5168039, 6)\n",
      "\n",
      "y shape is :  (5168039,)\n"
     ]
    }
   ],
   "source": [
    "# X Data\n",
    "x = data.drop(['isFraud'], axis=1)\n",
    "print('x shape is : ' , x.shape)\n",
    "print()\n",
    "\n",
    "# y Data\n",
    "y = data['isFraud']\n",
    "print('y shape is : ' , y.shape)"
   ]
  },
  {
   "cell_type": "markdown",
   "id": "a4b78acc-9561-4038-94d1-5d9ce75ea0f6",
   "metadata": {},
   "source": [
    "**TRAIN TEST SPLIT**"
   ]
  },
  {
   "cell_type": "code",
   "execution_count": 42,
   "id": "9a072a32-43b6-4e28-b495-053f30eab81f",
   "metadata": {},
   "outputs": [
    {
     "name": "stdout",
     "output_type": "stream",
     "text": [
      "x_train shape is  (3617627, 6)\n",
      "x_test shape is  (1550412, 6)\n",
      "y_train shape is  (3617627,)\n",
      "y_test shape is  (1550412,)\n"
     ]
    }
   ],
   "source": [
    "x_train, x_test, y_train, y_test = train_test_split(x, y, test_size=0.3, random_state=42, shuffle=True)\n",
    "\n",
    "print('x_train shape is ' , x_train.shape)\n",
    "print('x_test shape is ' , x_test.shape)\n",
    "print('y_train shape is ' , y_train.shape)\n",
    "print('y_test shape is ' , y_test.shape)"
   ]
  },
  {
   "cell_type": "markdown",
   "id": "207acf3e-e2b3-478b-a72b-61a0323bf440",
   "metadata": {},
   "source": [
    "**FEATURE SCALING**(Z-SCORE NORMALISATION)"
   ]
  },
  {
   "cell_type": "code",
   "execution_count": 43,
   "id": "a6204314-6f49-4f1a-95b2-153bf6e6c57f",
   "metadata": {},
   "outputs": [],
   "source": [
    "scaler = StandardScaler()\n",
    "scaler.fit(x_train)\n",
    "x_train_scaled = scaler.transform(x_train)\n",
    "x_test_scaled = scaler.transform(x_test)"
   ]
  },
  {
   "cell_type": "markdown",
   "id": "d6bd7af2-0915-4880-9a46-b6a620dfbab0",
   "metadata": {},
   "source": [
    "**MODEL 1: LOGISTIC REGRESSION MODEL**"
   ]
  },
  {
   "cell_type": "code",
   "execution_count": 44,
   "id": "f100cee5-c1e3-4ab9-9b50-a3a0753d056d",
   "metadata": {},
   "outputs": [
    {
     "name": "stdout",
     "output_type": "stream",
     "text": [
      "Training accuracy: 99.92 %\n",
      "Testing accuracy: 99.93 %\n"
     ]
    }
   ],
   "source": [
    "Model_1 = LogisticRegression()\n",
    "Model_1.fit(x_train_scaled , y_train)\n",
    "y_pred_LR = Model_1.predict(x_test_scaled)\n",
    "\n",
    "Train_Accuracy = Model_1.score(x_train_scaled, y_train)\n",
    "Test_Accuracy = Model_1.score(x_test_scaled , y_test)\n",
    "print(f'Training accuracy: {Train_Accuracy*100:.2f} %')\n",
    "print(f'Testing accuracy: {Test_Accuracy*100:.2f} %')"
   ]
  },
  {
   "cell_type": "code",
   "execution_count": 46,
   "id": "97c10ee8-8947-400d-94bf-397595ddb705",
   "metadata": {},
   "outputs": [
    {
     "data": {
      "text/plain": [
       "<Figure size 576x432 with 0 Axes>"
      ]
     },
     "metadata": {},
     "output_type": "display_data"
    },
    {
     "data": {
      "image/png": "[encoded data removed]",
      "text/plain": [
       "<Figure size 432x288 with 2 Axes>"
      ]
     },
     "metadata": {
      "needs_background": "light"
     },
     "output_type": "display_data"
    }
   ],
   "source": [
    "plt.figure(figsize=(8, 6)) \n",
    "CM = confusion_matrix(y_true=y_test, y_pred=y_pred_LR)\n",
    "ConfusionMatrixDisplay(CM, display_labels=data['isFraud'].unique()).plot()\n",
    "plt.title('Confusion Matrix Without Normalization')\n",
    "plt.show()"
   ]
  },
  {
   "cell_type": "code",
   "execution_count": 47,
   "id": "4c9c1dac-aa6e-4999-865b-c3b1ae9f2570",
   "metadata": {},
   "outputs": [
    {
     "name": "stdout",
     "output_type": "stream",
     "text": [
      "              precision    recall  f1-score   support\n",
      "\n",
      "           0       1.00      1.00      1.00   1549240\n",
      "           1       0.72      0.07      0.13      1172\n",
      "\n",
      "    accuracy                           1.00   1550412\n",
      "   macro avg       0.86      0.54      0.57   1550412\n",
      "weighted avg       1.00      1.00      1.00   1550412\n",
      "\n"
     ]
    }
   ],
   "source": [
    "print(classification_report(y_test , y_pred_LR))"
   ]
  },
  {
   "cell_type": "code",
   "execution_count": 48,
   "id": "95448c45-f680-49f5-a925-f62a5060c14b",
   "metadata": {},
   "outputs": [
    {
     "name": "stdout",
     "output_type": "stream",
     "text": [
      "Accuracy Score :  99.93 %\n",
      "\n",
      "Precision Score :  72.27 %\n",
      "\n",
      "Recall Score :  7.34 %\n",
      "\n",
      "F1 Score :  13.32 %\n",
      "\n",
      "AUC_ROC :  53.67 %\n",
      "\n"
     ]
    }
   ],
   "source": [
    "Accuracy_1 = accuracy_score(y_test, y_pred_LR)\n",
    "print(f'Accuracy Score : {Accuracy_1 * 100 : .2f} %\\n')\n",
    "\n",
    "\n",
    "Precision_1 = precision_score(y_test, y_pred_LR)\n",
    "print(f'Precision Score : {Precision_1 * 100 : .2f} %\\n')\n",
    "\n",
    "\n",
    "Recall_1 = recall_score(y_test, y_pred_LR)\n",
    "print(f'Recall Score : {Recall_1 * 100 : .2f} %\\n')\n",
    "\n",
    "\n",
    "F1_Score_1 = f1_score(y_test, y_pred_LR)\n",
    "print(f'F1 Score : {F1_Score_1 * 100 : .2f} %\\n')\n",
    "\n",
    "\n",
    "ROC_AUC_1 = roc_auc_score(y_test, y_pred_LR)\n",
    "print(f'AUC_ROC : {ROC_AUC_1 * 100 : .2f} %\\n')"
   ]
  },
  {
   "cell_type": "code",
   "execution_count": 49,
   "id": "01040db1-8538-4ed5-a3b8-bd965b761440",
   "metadata": {},
   "outputs": [
    {
     "data": {
      "image/png": "[encoded data removed]",
      "text/plain": [
       "<Figure size 504x360 with 1 Axes>"
      ]
     },
     "metadata": {},
     "output_type": "display_data"
    }
   ],
   "source": [
    "Scores_1 = [Accuracy_1, Precision_1, Recall_1, F1_Score_1, ROC_AUC_1]\n",
    "Score_Names_1 = ['Accuracy', 'Precision', 'Recall', 'F1 Score', 'AUC-ROC']\n",
    "\n",
    "plt.figure(figsize=(7, 5))\n",
    "plt.pie(Scores_1, labels=Score_Names_1, autopct='%1.2f%%', startangle=140)\n",
    "plt.axis('equal')\n",
    "plt.show()"
   ]
  },
  {
   "cell_type": "markdown",
   "id": "734cec81-e847-4fe9-8962-a5e23311224b",
   "metadata": {},
   "source": [
    "**DECISION TREE CLASSIFIER**"
   ]
  },
  {
   "cell_type": "code",
   "execution_count": 51,
   "id": "6a9071ad-6ae2-41de-b524-a1d4613a80f2",
   "metadata": {},
   "outputs": [
    {
     "name": "stdout",
     "output_type": "stream",
     "text": [
      "Training accuracy: 100.00 %\n",
      "Testing accuracy: 99.97 %\n"
     ]
    }
   ],
   "source": [
    "Model_2 = DecisionTreeClassifier()\n",
    "Model_2.fit(x_train_scaled, y_train)\n",
    "y_pred_DT = Model_2.predict(x_test_scaled)\n",
    "\n",
    "Train_Accuracy = Model_2.score(x_train_scaled, y_train)\n",
    "Test_Accuracy = Model_2.score(x_test_scaled, y_test)\n",
    "print(f'Training accuracy: {Train_Accuracy*100:.2f} %')\n",
    "print(f'Testing accuracy: {Test_Accuracy*100:.2f} %')"
   ]
  },
  {
   "cell_type": "markdown",
   "id": "0822ce59-f6c2-4619-b431-4a15eff0bc64",
   "metadata": {
    "jupyter": {
     "outputs_hidden": true
    },
    "tags": []
   },
   "source": [
    "CM = confusion_matrix(y_true=y_test, y_pred=y_pred_DT)\n",
    "ConfusionMatrixDisplay(CM, display_labels=data['isFraud'].unique()).plot()\n",
    "plt.title('Confusion Matrix Without Normalization')\n",
    "plt.show()"
   ]
  },
  {
   "cell_type": "code",
   "execution_count": 53,
   "id": "c5bf0a4f-f2c6-4566-bb49-602ad5b5314c",
   "metadata": {},
   "outputs": [
    {
     "name": "stdout",
     "output_type": "stream",
     "text": [
      "              precision    recall  f1-score   support\n",
      "\n",
      "           0       1.00      1.00      1.00   1549240\n",
      "           1       0.82      0.82      0.82      1172\n",
      "\n",
      "    accuracy                           1.00   1550412\n",
      "   macro avg       0.91      0.91      0.91   1550412\n",
      "weighted avg       1.00      1.00      1.00   1550412\n",
      "\n"
     ]
    }
   ],
   "source": [
    "print(classification_report(y_test, y_pred_DT))"
   ]
  },
  {
   "cell_type": "markdown",
   "id": "58f61e13-c5b9-44b3-a263-6f5db7a1ac9e",
   "metadata": {},
   "source": [
    "Accuracy_2 = accuracy_score(y_test, y_pred_DT)\n",
    "print(f'Accuracy Score : {Accuracy_2 * 100 : .2f} %\\n')\n",
    "\n",
    "\n",
    "Precision_2 = precision_score(y_test, y_pred_DT)\n",
    "print(f'Precision Score : {Precision_2 * 100 : .2f} %\\n')\n",
    "\n",
    "\n",
    "Recall_2 = recall_score(y_test, y_pred_DT)\n",
    "print(f'Recall Score : {Recall_2 * 100 : .2f} %\\n')\n",
    "\n",
    "\n",
    "F1_Score_2 = f1_score(y_test, y_pred_DT)\n",
    "print(f'F1 Score : {F1_Score_2 * 100 : .2f} %\\n')\n",
    "\n",
    "\n",
    "ROC_AUC_2 = roc_auc_score(y_test, y_pred_DT)\n",
    "print(f'AUC_ROC : {ROC_AUC_2 * 100 : .2f} %\\n')"
   ]
  },
  {
   "cell_type": "code",
   "execution_count": 55,
   "id": "8c3c8d82-78e7-44ad-ab8d-9f3b59a8cd77",
   "metadata": {},
   "outputs": [
    {
     "data": {
      "image/png": "[encoded data removed]",
      "text/plain": [
       "<Figure size 504x360 with 1 Axes>"
      ]
     },
     "metadata": {},
     "output_type": "display_data"
    }
   ],
   "source": [
    "Scores_2 = [Accuracy_2, Precision_2, Recall_2, F1_Score_2, ROC_AUC_2]\n",
    "Score_Names_2 = ['Accuracy', 'Precision', 'Recall', 'F1 Score', 'AUC-ROC']\n",
    "\n",
    "plt.figure(figsize=(7, 5))\n",
    "plt.pie(Scores_2, labels=Score_Names_2, autopct='%1.2f%%', startangle=140)\n",
    "plt.axis('equal')\n",
    "plt.show()"
   ]
  },
  {
   "cell_type": "markdown",
   "id": "de338416-d005-4558-a9ba-f4786c3c44e2",
   "metadata": {},
   "source": [
    "**NAIVE BAYES CLASSIFIER MODEL**"
   ]
  },
  {
   "cell_type": "code",
   "execution_count": 57,
   "id": "5d0ff1a0-7938-4a27-9b32-5426e8f02f01",
   "metadata": {},
   "outputs": [
    {
     "name": "stdout",
     "output_type": "stream",
     "text": [
      "Training accuracy: 97.67 %\n",
      "Testing accuracy: 97.67 %\n"
     ]
    }
   ],
   "source": [
    "Model_3 = GaussianNB()\n",
    "Model_3.fit(x_train_scaled, y_train)\n",
    "y_pred_NB = Model_3.predict(x_test_scaled)\n",
    "\n",
    "Train_Accuracy = Model_3.score(x_train_scaled, y_train)\n",
    "Test_Accuracy = Model_3.score(x_test_scaled, y_test)\n",
    "print(f'Training accuracy: {Train_Accuracy*100:.2f} %')\n",
    "print(f'Testing accuracy: {Test_Accuracy*100:.2f} %')"
   ]
  },
  {
   "cell_type": "code",
   "execution_count": 58,
   "id": "86b63b89-0396-4d98-bdaa-0b85eadfe119",
   "metadata": {},
   "outputs": [
    {
     "data": {
      "image/png": "[encoded data removed]",
      "text/plain": [
       "<Figure size 432x288 with 2 Axes>"
      ]
     },
     "metadata": {
      "needs_background": "light"
     },
     "output_type": "display_data"
    }
   ],
   "source": [
    "CM = confusion_matrix(y_true=y_test, y_pred=y_pred_NB)\n",
    "ConfusionMatrixDisplay(CM, display_labels=data['isFraud'].unique()).plot()\n",
    "plt.title('Confusion Matrix Without Normalization')\n",
    "plt.show()"
   ]
  },
  {
   "cell_type": "code",
   "execution_count": 59,
   "id": "f73b115a-38d8-4c2c-8fd9-7ef8b8535c79",
   "metadata": {},
   "outputs": [
    {
     "name": "stdout",
     "output_type": "stream",
     "text": [
      "              precision    recall  f1-score   support\n",
      "\n",
      "           0       1.00      0.98      0.99   1549240\n",
      "           1       0.01      0.40      0.03      1172\n",
      "\n",
      "    accuracy                           0.98   1550412\n",
      "   macro avg       0.51      0.69      0.51   1550412\n",
      "weighted avg       1.00      0.98      0.99   1550412\n",
      "\n"
     ]
    }
   ],
   "source": [
    "print(classification_report(y_test, y_pred_NB))"
   ]
  },
  {
   "cell_type": "code",
   "execution_count": 60,
   "id": "b55232a9-6060-4c03-94f1-90b9093efcdb",
   "metadata": {},
   "outputs": [
    {
     "name": "stdout",
     "output_type": "stream",
     "text": [
      "Accuracy Score :  97.67 %\n",
      "\n",
      "Precision Score :  1.29 %\n",
      "\n",
      "Recall Score :  39.51 %\n",
      "\n",
      "F1 Score :  2.50 %\n",
      "\n",
      "AUC_ROC :  68.61 %\n",
      "\n"
     ]
    }
   ],
   "source": [
    "Accuracy_3 = accuracy_score(y_test, y_pred_NB)\n",
    "print(f'Accuracy Score : {Accuracy_3 * 100 : .2f} %\\n')\n",
    "\n",
    "\n",
    "Precision_3 = precision_score(y_test, y_pred_NB)\n",
    "print(f'Precision Score : {Precision_3 * 100 : .2f} %\\n')\n",
    "\n",
    "\n",
    "Recall_3 = recall_score(y_test, y_pred_NB)\n",
    "print(f'Recall Score : {Recall_3 * 100 : .2f} %\\n')\n",
    "\n",
    "\n",
    "F1_Score_3 = f1_score(y_test, y_pred_NB)\n",
    "print(f'F1 Score : {F1_Score_3 * 100 : .2f} %\\n')\n",
    "\n",
    "\n",
    "ROC_AUC_3 = roc_auc_score(y_test, y_pred_NB)\n",
    "print(f'AUC_ROC : {ROC_AUC_3 * 100 : .2f} %\\n')"
   ]
  },
  {
   "cell_type": "code",
   "execution_count": 63,
   "id": "6813c403-fed4-463e-9bce-c3397618971d",
   "metadata": {},
   "outputs": [
    {
     "data": {
      "image/png": "[encoded data removed]",
      "text/plain": [
       "<Figure size 504x360 with 1 Axes>"
      ]
     },
     "metadata": {},
     "output_type": "display_data"
    }
   ],
   "source": [
    "Scores_3 = [Accuracy_3, Precision_3, Recall_3, F1_Score_3, ROC_AUC_3]\n",
    "Score_Names_3 = ['Accuracy', 'Precision', 'Recall', 'F1 Score', 'AUC-ROC']\n",
    "\n",
    "plt.figure(figsize=(7, 5))\n",
    "plt.pie(Scores_3, labels=Score_Names_3, autopct='%1.2f%%', startangle=140)\n",
    "plt.axis('equal')\n",
    "plt.show()"
   ]
  },
  {
   "cell_type": "markdown",
   "id": "65a7ac1e-e9f7-4a4c-93bd-931dde683edf",
   "metadata": {
    "tags": []
   },
   "source": [
    "**CONCLUSIONS**"
   ]
  },
  {
   "cell_type": "code",
   "execution_count": 64,
   "id": "4f808ad9-428d-417a-b9ee-ede498fed0db",
   "metadata": {},
   "outputs": [
    {
     "data": {
      "text/html": [
       "<div>\n",
       "<style scoped>\n",
       "    .dataframe tbody tr th:only-of-type {\n",
       "        vertical-align: middle;\n",
       "    }\n",
       "\n",
       "    .dataframe tbody tr th {\n",
       "        vertical-align: top;\n",
       "    }\n",
       "\n",
       "    .dataframe thead th {\n",
       "        text-align: right;\n",
       "    }\n",
       "</style>\n",
       "<table border=\"1\" class=\"dataframe\">\n",
       "  <thead>\n",
       "    <tr style=\"text-align: right;\">\n",
       "      <th></th>\n",
       "      <th>Model</th>\n",
       "      <th>Accuracy</th>\n",
       "    </tr>\n",
       "  </thead>\n",
       "  <tbody>\n",
       "    <tr>\n",
       "      <th>0</th>\n",
       "      <td>Logistic Regression</td>\n",
       "      <td>99.927826</td>\n",
       "    </tr>\n",
       "    <tr>\n",
       "      <th>1</th>\n",
       "      <td>Decision Tree</td>\n",
       "      <td>99.972330</td>\n",
       "    </tr>\n",
       "    <tr>\n",
       "      <th>2</th>\n",
       "      <td>Naive Bayes</td>\n",
       "      <td>97.671200</td>\n",
       "    </tr>\n",
       "  </tbody>\n",
       "</table>\n",
       "</div>"
      ],
      "text/plain": [
       "                 Model   Accuracy\n",
       "0  Logistic Regression  99.927826\n",
       "1        Decision Tree  99.972330\n",
       "2          Naive Bayes  97.671200"
      ]
     },
     "execution_count": 64,
     "metadata": {},
     "output_type": "execute_result"
    }
   ],
   "source": [
    "evaluation = pd.DataFrame({'Model': ['Logistic Regression','Decision Tree', 'Naive Bayes'],\n",
    "                           'Accuracy': [(Accuracy_1*100), (Accuracy_2*100), (Accuracy_3*100)]})\n",
    "\n",
    "evaluation"
   ]
  },
  {
   "cell_type": "code",
   "execution_count": null,
   "id": "5b143be6-31b1-4958-bbc8-43c35b32f99a",
   "metadata": {},
   "outputs": [],
   "source": []
  }
 ],
 "metadata": {
  "kernelspec": {
   "display_name": "Python 3 (ipykernel)",
   "language": "python",
   "name": "python3"
  },
  "language_info": {
   "codemirror_mode": {
    "name": "ipython",
    "version": 3
   },
   "file_extension": ".py",
   "mimetype": "text/x-python",
   "name": "python",
   "nbconvert_exporter": "python",
   "pygments_lexer": "ipython3",
   "version": "3.9.12"
  }
 },
 "nbformat": 4,
 "nbformat_minor": 5
}
